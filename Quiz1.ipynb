{
 "cells": [
  {
   "cell_type": "code",
   "execution_count": 26,
   "id": "b5a19100",
   "metadata": {},
   "outputs": [],
   "source": [
    "import pandas as pd\n",
    "import matplotlib.pyplot as plt\n",
    "#საჭირო libraries იმპორტი"
   ]
  },
  {
   "cell_type": "code",
   "execution_count": 27,
   "id": "cbb640cb",
   "metadata": {},
   "outputs": [],
   "source": [
    "data = pd.read_csv(\"survey_results_public.csv\")\n",
    "#მონაცემების ჩამოტვირთვა"
   ]
  },
  {
   "cell_type": "markdown",
   "id": "25aa0766",
   "metadata": {},
   "source": [
    "desired_data = data.iloc[:10, ~data.columns.isin(['YearsCode', 'Age'])]\n",
    "#კოდი ირჩევს მონაცემთა ნაკრების პირველ 10 სტრიქონს"
   ]
  },
  {
   "cell_type": "code",
   "execution_count": 28,
   "id": "b538945a",
   "metadata": {},
   "outputs": [],
   "source": [
    "data.set_index('Age', inplace=True)"
   ]
  },
  {
   "cell_type": "code",
   "execution_count": 7,
   "id": "3e759280",
   "metadata": {},
   "outputs": [],
   "source": [
    "data['WorkExp'] = pd.to_numeric(data['WorkExp'], errors='coerce')"
   ]
  },
  {
   "cell_type": "code",
   "execution_count": 8,
   "id": "6d307e29",
   "metadata": {},
   "outputs": [
    {
     "name": "stdout",
     "output_type": "stream",
     "text": [
      "                 ResponseId     Q120                      MainBranch  \\\n",
      "Age                                                                    \n",
      "45-54 years old           3  I agree  I am a developer by profession   \n",
      "55-64 years old          37  I agree  I am a developer by profession   \n",
      "55-64 years old          48  I agree     I code primarily as a hobby   \n",
      "55-64 years old          49  I agree  I am a developer by profession   \n",
      "45-54 years old          56  I agree  I am a developer by profession   \n",
      "...                     ...      ...                             ...   \n",
      "35-44 years old       89123  I agree  I am a developer by profession   \n",
      "55-64 years old       89138  I agree  I am a developer by profession   \n",
      "35-44 years old       89145  I agree  I am a developer by profession   \n",
      "35-44 years old       89163  I agree  I am a developer by profession   \n",
      "45-54 years old       89173  I agree  I am a developer by profession   \n",
      "\n",
      "                                                        Employment  \\\n",
      "Age                                                                  \n",
      "45-54 years old                                Employed, full-time   \n",
      "55-64 years old                                Employed, full-time   \n",
      "55-64 years old  Independent contractor, freelancer, or self-em...   \n",
      "55-64 years old                                Employed, full-time   \n",
      "45-54 years old  Independent contractor, freelancer, or self-em...   \n",
      "...                                                            ...   \n",
      "35-44 years old                                Employed, full-time   \n",
      "55-64 years old  Independent contractor, freelancer, or self-em...   \n",
      "35-44 years old  Independent contractor, freelancer, or self-em...   \n",
      "35-44 years old                                Employed, full-time   \n",
      "45-54 years old                                Employed, full-time   \n",
      "\n",
      "                                           RemoteWork  \\\n",
      "Age                                                     \n",
      "45-54 years old  Hybrid (some remote, some in-person)   \n",
      "55-64 years old  Hybrid (some remote, some in-person)   \n",
      "55-64 years old                                Remote   \n",
      "55-64 years old  Hybrid (some remote, some in-person)   \n",
      "45-54 years old                                Remote   \n",
      "...                                               ...   \n",
      "35-44 years old  Hybrid (some remote, some in-person)   \n",
      "55-64 years old                                Remote   \n",
      "35-44 years old                                Remote   \n",
      "35-44 years old                                Remote   \n",
      "45-54 years old                             In-person   \n",
      "\n",
      "                                                  CodingActivities  \\\n",
      "Age                                                                  \n",
      "45-54 years old  Hobby;Professional development or self-paced l...   \n",
      "55-64 years old  Bootstrapping a business;Professional developm...   \n",
      "55-64 years old                       I don’t code outside of work   \n",
      "55-64 years old  Hobby;Professional development or self-paced l...   \n",
      "45-54 years old                       I don’t code outside of work   \n",
      "...                                                            ...   \n",
      "35-44 years old  Hobby;Contribute to open-source projects;Freel...   \n",
      "55-64 years old                           Bootstrapping a business   \n",
      "35-44 years old           Hobby;Contribute to open-source projects   \n",
      "35-44 years old                       I don’t code outside of work   \n",
      "45-54 years old  Hobby;Contribute to open-source projects;Profe...   \n",
      "\n",
      "                                                           EdLevel  \\\n",
      "Age                                                                  \n",
      "45-54 years old       Bachelor’s degree (B.A., B.S., B.Eng., etc.)   \n",
      "55-64 years old  Some college/university study without earning ...   \n",
      "55-64 years old  Some college/university study without earning ...   \n",
      "55-64 years old    Master’s degree (M.A., M.S., M.Eng., MBA, etc.)   \n",
      "45-54 years old  Some college/university study without earning ...   \n",
      "...                                                            ...   \n",
      "35-44 years old  Some college/university study without earning ...   \n",
      "55-64 years old       Bachelor’s degree (B.A., B.S., B.Eng., etc.)   \n",
      "35-44 years old    Master’s degree (M.A., M.S., M.Eng., MBA, etc.)   \n",
      "35-44 years old    Master’s degree (M.A., M.S., M.Eng., MBA, etc.)   \n",
      "45-54 years old  Some college/university study without earning ...   \n",
      "\n",
      "                                                         LearnCode  \\\n",
      "Age                                                                  \n",
      "45-54 years old  Books / Physical media;Colleague;On the job tr...   \n",
      "55-64 years old  Books / Physical media;Online Courses or Certi...   \n",
      "55-64 years old  Books / Physical media;Other online resources ...   \n",
      "55-64 years old  Books / Physical media;On the job training;Sch...   \n",
      "45-54 years old  Books / Physical media;Friend or family member...   \n",
      "...                                                            ...   \n",
      "35-44 years old  Books / Physical media;Colleague;Friend or fam...   \n",
      "55-64 years old  Books / Physical media;Friend or family member...   \n",
      "35-44 years old  On the job training;Other online resources (e....   \n",
      "35-44 years old  On the job training;Other online resources (e....   \n",
      "45-54 years old  Books / Physical media;School (i.e., Universit...   \n",
      "\n",
      "                                                   LearnCodeOnline  \\\n",
      "Age                                                                  \n",
      "45-54 years old  Formal documentation provided by the owner of ...   \n",
      "55-64 years old  Formal documentation provided by the owner of ...   \n",
      "55-64 years old  Formal documentation provided by the owner of ...   \n",
      "55-64 years old                                                NaN   \n",
      "45-54 years old  Formal documentation provided by the owner of ...   \n",
      "...                                                            ...   \n",
      "35-44 years old  Formal documentation provided by the owner of ...   \n",
      "55-64 years old  Formal documentation provided by the owner of ...   \n",
      "35-44 years old  Formal documentation provided by the owner of ...   \n",
      "35-44 years old  Formal documentation provided by the owner of ...   \n",
      "45-54 years old                                                NaN   \n",
      "\n",
      "                LearnCodeCoursesCert  ...        Frequency_1  \\\n",
      "Age                                   ...                      \n",
      "45-54 years old                  NaN  ...  6-10 times a week   \n",
      "55-64 years old    Udemy;Pluralsight  ...   1-2 times a week   \n",
      "55-64 years old                  NaN  ...                NaN   \n",
      "55-64 years old                  NaN  ...   1-2 times a week   \n",
      "45-54 years old                  NaN  ...                NaN   \n",
      "...                              ...  ...                ...   \n",
      "35-44 years old                  NaN  ...                NaN   \n",
      "55-64 years old                  NaN  ...   10+ times a week   \n",
      "35-44 years old                  NaN  ...   1-2 times a week   \n",
      "35-44 years old                  NaN  ...  6-10 times a week   \n",
      "45-54 years old                  NaN  ...              Never   \n",
      "\n",
      "                       Frequency_2       Frequency_3           TimeSearching  \\\n",
      "Age                                                                            \n",
      "45-54 years old  6-10 times a week  3-5 times a week     30-60 minutes a day   \n",
      "55-64 years old   1-2 times a week  3-5 times a week     30-60 minutes a day   \n",
      "55-64 years old                NaN               NaN                     NaN   \n",
      "55-64 years old   3-5 times a week  1-2 times a week     30-60 minutes a day   \n",
      "45-54 years old                NaN               NaN                     NaN   \n",
      "...                            ...               ...                     ...   \n",
      "35-44 years old                NaN               NaN                     NaN   \n",
      "55-64 years old   10+ times a week  10+ times a week  Over 120 minutes a day   \n",
      "35-44 years old   1-2 times a week  1-2 times a week     15-30 minutes a day   \n",
      "35-44 years old  6-10 times a week  3-5 times a week    60-120 minutes a day   \n",
      "45-54 years old   10+ times a week  1-2 times a week     30-60 minutes a day   \n",
      "\n",
      "                              TimeAnswering  \\\n",
      "Age                                           \n",
      "45-54 years old         30-60 minutes a day   \n",
      "55-64 years old         30-60 minutes a day   \n",
      "55-64 years old                         NaN   \n",
      "55-64 years old         15-30 minutes a day   \n",
      "45-54 years old                         NaN   \n",
      "...                                     ...   \n",
      "35-44 years old                         NaN   \n",
      "55-64 years old        60-120 minutes a day   \n",
      "35-44 years old  Less than 15 minutes a day   \n",
      "35-44 years old        60-120 minutes a day   \n",
      "45-54 years old         30-60 minutes a day   \n",
      "\n",
      "                                                  ProfessionalTech  \\\n",
      "Age                                                                  \n",
      "45-54 years old  DevOps function;Microservices;Automated testin...   \n",
      "55-64 years old                                    DevOps function   \n",
      "55-64 years old                                                NaN   \n",
      "55-64 years old                  DevOps function;Automated testing   \n",
      "45-54 years old                                                NaN   \n",
      "...                                                            ...   \n",
      "35-44 years old                                                NaN   \n",
      "55-64 years old                                      None of these   \n",
      "35-44 years old  Automated testing;Observability tools;Develope...   \n",
      "35-44 years old  Automated testing;Developer portal or other ce...   \n",
      "45-54 years old                             Innersource initiative   \n",
      "\n",
      "                                                          Industry  \\\n",
      "Age                                                                  \n",
      "45-54 years old  Information Services, IT, Software Development...   \n",
      "55-64 years old     Manufacturing, Transportation, or Supply Chain   \n",
      "55-64 years old                                                NaN   \n",
      "55-64 years old                                   Higher Education   \n",
      "45-54 years old                                                NaN   \n",
      "...                                                            ...   \n",
      "35-44 years old                                                NaN   \n",
      "55-64 years old                                                NaN   \n",
      "35-44 years old                               Advertising Services   \n",
      "35-44 years old  Information Services, IT, Software Development...   \n",
      "45-54 years old  Information Services, IT, Software Development...   \n",
      "\n",
      "                          SurveyLength                  SurveyEase  \\\n",
      "Age                                                                  \n",
      "45-54 years old  Appropriate in length                        Easy   \n",
      "55-64 years old  Appropriate in length                        Easy   \n",
      "55-64 years old  Appropriate in length                        Easy   \n",
      "55-64 years old  Appropriate in length                        Easy   \n",
      "45-54 years old  Appropriate in length                        Easy   \n",
      "...                                ...                         ...   \n",
      "35-44 years old  Appropriate in length                        Easy   \n",
      "55-64 years old              Too short                        Easy   \n",
      "35-44 years old               Too long                        Easy   \n",
      "35-44 years old  Appropriate in length  Neither easy nor difficult   \n",
      "45-54 years old  Appropriate in length  Neither easy nor difficult   \n",
      "\n",
      "                 ConvertedCompYearly  \n",
      "Age                                   \n",
      "45-54 years old             250000.0  \n",
      "55-64 years old             130000.0  \n",
      "55-64 years old                  NaN  \n",
      "55-64 years old             149894.0  \n",
      "45-54 years old              65000.0  \n",
      "...                              ...  \n",
      "35-44 years old              70765.0  \n",
      "55-64 years old             250000.0  \n",
      "35-44 years old             128507.0  \n",
      "35-44 years old              50719.0  \n",
      "45-54 years old                  NaN  \n",
      "\n",
      "[11551 rows x 83 columns]\n"
     ]
    }
   ],
   "source": [
    "data['YearsCode'] = pd.to_numeric(data['YearsCode'], errors='coerce')\n",
    "filtered_data = data[data['YearsCode'] > 25]\n",
    "print(filtered_data)\n",
    "\n",
    "#ფილტრავს მონაცემთა ბაზას და გამოაქვს სადაც „YearsCode“ სვეტი 25-ზე მეტია."
   ]
  },
  {
   "cell_type": "code",
   "execution_count": 32,
   "id": "2a562c14",
   "metadata": {},
   "outputs": [],
   "source": [
    "sorted_data = data.sort_values(by=['Age', 'YearsCode'])"
   ]
  },
  {
   "cell_type": "code",
   "execution_count": 33,
   "id": "c6b62d99",
   "metadata": {
    "scrolled": true
   },
   "outputs": [
    {
     "ename": "TypeError",
     "evalue": "could not convert string to float: 'Less than 1 year'",
     "output_type": "error",
     "traceback": [
      "\u001b[1;31m---------------------------------------------------------------------------\u001b[0m",
      "\u001b[1;31mValueError\u001b[0m                                Traceback (most recent call last)",
      "File \u001b[1;32m~\\Desktop\\work\\warpfusion\\env\\lib\\site-packages\\pandas\\core\\nanops.py:786\u001b[0m, in \u001b[0;36mnanmedian\u001b[1;34m(values, axis, skipna, mask)\u001b[0m\n\u001b[0;32m    785\u001b[0m \u001b[38;5;28;01mtry\u001b[39;00m:\n\u001b[1;32m--> 786\u001b[0m     values \u001b[38;5;241m=\u001b[39m \u001b[43mvalues\u001b[49m\u001b[38;5;241;43m.\u001b[39;49m\u001b[43mastype\u001b[49m\u001b[43m(\u001b[49m\u001b[38;5;124;43m\"\u001b[39;49m\u001b[38;5;124;43mf8\u001b[39;49m\u001b[38;5;124;43m\"\u001b[39;49m\u001b[43m)\u001b[49m\n\u001b[0;32m    787\u001b[0m \u001b[38;5;28;01mexcept\u001b[39;00m \u001b[38;5;167;01mValueError\u001b[39;00m \u001b[38;5;28;01mas\u001b[39;00m err:\n\u001b[0;32m    788\u001b[0m     \u001b[38;5;66;03m# e.g. \"could not convert string to float: 'a'\"\u001b[39;00m\n",
      "\u001b[1;31mValueError\u001b[0m: could not convert string to float: 'Less than 1 year'",
      "\nThe above exception was the direct cause of the following exception:\n",
      "\u001b[1;31mTypeError\u001b[0m                                 Traceback (most recent call last)",
      "Cell \u001b[1;32mIn[33], line 3\u001b[0m\n\u001b[0;32m      1\u001b[0m mean_work_exp \u001b[38;5;241m=\u001b[39m data[\u001b[38;5;124m'\u001b[39m\u001b[38;5;124mWorkExp\u001b[39m\u001b[38;5;124m'\u001b[39m]\u001b[38;5;241m.\u001b[39mmean()\n\u001b[0;32m      2\u001b[0m std_work_exp \u001b[38;5;241m=\u001b[39m data[\u001b[38;5;124m'\u001b[39m\u001b[38;5;124mWorkExp\u001b[39m\u001b[38;5;124m'\u001b[39m]\u001b[38;5;241m.\u001b[39mstd()\n\u001b[1;32m----> 3\u001b[0m median_years_code \u001b[38;5;241m=\u001b[39m \u001b[43mdata\u001b[49m\u001b[43m[\u001b[49m\u001b[38;5;124;43m'\u001b[39;49m\u001b[38;5;124;43mYearsCode\u001b[39;49m\u001b[38;5;124;43m'\u001b[39;49m\u001b[43m]\u001b[49m\u001b[38;5;241;43m.\u001b[39;49m\u001b[43mmedian\u001b[49m\u001b[43m(\u001b[49m\u001b[43m)\u001b[49m\n\u001b[0;32m      4\u001b[0m min_work_exp \u001b[38;5;241m=\u001b[39m data[\u001b[38;5;124m'\u001b[39m\u001b[38;5;124mWorkExp\u001b[39m\u001b[38;5;124m'\u001b[39m]\u001b[38;5;241m.\u001b[39mmin()\n\u001b[0;32m      5\u001b[0m max_years_code \u001b[38;5;241m=\u001b[39m data[\u001b[38;5;124m'\u001b[39m\u001b[38;5;124mYearsCode\u001b[39m\u001b[38;5;124m'\u001b[39m]\u001b[38;5;241m.\u001b[39mmax()\n",
      "File \u001b[1;32m~\\Desktop\\work\\warpfusion\\env\\lib\\site-packages\\pandas\\core\\generic.py:11623\u001b[0m, in \u001b[0;36mNDFrame._add_numeric_operations.<locals>.median\u001b[1;34m(self, axis, skipna, numeric_only, **kwargs)\u001b[0m\n\u001b[0;32m  11606\u001b[0m \u001b[38;5;129m@doc\u001b[39m(\n\u001b[0;32m  11607\u001b[0m     _num_doc,\n\u001b[0;32m  11608\u001b[0m     desc\u001b[38;5;241m=\u001b[39m\u001b[38;5;124m\"\u001b[39m\u001b[38;5;124mReturn the median of the values over the requested axis.\u001b[39m\u001b[38;5;124m\"\u001b[39m,\n\u001b[1;32m   (...)\u001b[0m\n\u001b[0;32m  11621\u001b[0m     \u001b[38;5;241m*\u001b[39m\u001b[38;5;241m*\u001b[39mkwargs,\n\u001b[0;32m  11622\u001b[0m ):\n\u001b[1;32m> 11623\u001b[0m     \u001b[38;5;28;01mreturn\u001b[39;00m NDFrame\u001b[38;5;241m.\u001b[39mmedian(\u001b[38;5;28mself\u001b[39m, axis, skipna, numeric_only, \u001b[38;5;241m*\u001b[39m\u001b[38;5;241m*\u001b[39mkwargs)\n",
      "File \u001b[1;32m~\\Desktop\\work\\warpfusion\\env\\lib\\site-packages\\pandas\\core\\generic.py:11212\u001b[0m, in \u001b[0;36mNDFrame.median\u001b[1;34m(self, axis, skipna, numeric_only, **kwargs)\u001b[0m\n\u001b[0;32m  11205\u001b[0m \u001b[38;5;28;01mdef\u001b[39;00m \u001b[38;5;21mmedian\u001b[39m(\n\u001b[0;32m  11206\u001b[0m     \u001b[38;5;28mself\u001b[39m,\n\u001b[0;32m  11207\u001b[0m     axis: Axis \u001b[38;5;241m|\u001b[39m \u001b[38;5;28;01mNone\u001b[39;00m \u001b[38;5;241m=\u001b[39m \u001b[38;5;241m0\u001b[39m,\n\u001b[1;32m   (...)\u001b[0m\n\u001b[0;32m  11210\u001b[0m     \u001b[38;5;241m*\u001b[39m\u001b[38;5;241m*\u001b[39mkwargs,\n\u001b[0;32m  11211\u001b[0m ) \u001b[38;5;241m-\u001b[39m\u001b[38;5;241m>\u001b[39m Series \u001b[38;5;241m|\u001b[39m \u001b[38;5;28mfloat\u001b[39m:\n\u001b[1;32m> 11212\u001b[0m     \u001b[38;5;28;01mreturn\u001b[39;00m \u001b[38;5;28mself\u001b[39m\u001b[38;5;241m.\u001b[39m_stat_function(\n\u001b[0;32m  11213\u001b[0m         \u001b[38;5;124m\"\u001b[39m\u001b[38;5;124mmedian\u001b[39m\u001b[38;5;124m\"\u001b[39m, nanops\u001b[38;5;241m.\u001b[39mnanmedian, axis, skipna, numeric_only, \u001b[38;5;241m*\u001b[39m\u001b[38;5;241m*\u001b[39mkwargs\n\u001b[0;32m  11214\u001b[0m     )\n",
      "File \u001b[1;32m~\\Desktop\\work\\warpfusion\\env\\lib\\site-packages\\pandas\\core\\generic.py:11158\u001b[0m, in \u001b[0;36mNDFrame._stat_function\u001b[1;34m(self, name, func, axis, skipna, numeric_only, **kwargs)\u001b[0m\n\u001b[0;32m  11154\u001b[0m     nv\u001b[38;5;241m.\u001b[39mvalidate_stat_func((), kwargs, fname\u001b[38;5;241m=\u001b[39mname)\n\u001b[0;32m  11156\u001b[0m validate_bool_kwarg(skipna, \u001b[38;5;124m\"\u001b[39m\u001b[38;5;124mskipna\u001b[39m\u001b[38;5;124m\"\u001b[39m, none_allowed\u001b[38;5;241m=\u001b[39m\u001b[38;5;28;01mFalse\u001b[39;00m)\n\u001b[1;32m> 11158\u001b[0m \u001b[38;5;28;01mreturn\u001b[39;00m \u001b[38;5;28;43mself\u001b[39;49m\u001b[38;5;241;43m.\u001b[39;49m\u001b[43m_reduce\u001b[49m\u001b[43m(\u001b[49m\n\u001b[0;32m  11159\u001b[0m \u001b[43m    \u001b[49m\u001b[43mfunc\u001b[49m\u001b[43m,\u001b[49m\u001b[43m \u001b[49m\u001b[43mname\u001b[49m\u001b[38;5;241;43m=\u001b[39;49m\u001b[43mname\u001b[49m\u001b[43m,\u001b[49m\u001b[43m \u001b[49m\u001b[43maxis\u001b[49m\u001b[38;5;241;43m=\u001b[39;49m\u001b[43maxis\u001b[49m\u001b[43m,\u001b[49m\u001b[43m \u001b[49m\u001b[43mskipna\u001b[49m\u001b[38;5;241;43m=\u001b[39;49m\u001b[43mskipna\u001b[49m\u001b[43m,\u001b[49m\u001b[43m \u001b[49m\u001b[43mnumeric_only\u001b[49m\u001b[38;5;241;43m=\u001b[39;49m\u001b[43mnumeric_only\u001b[49m\n\u001b[0;32m  11160\u001b[0m \u001b[43m\u001b[49m\u001b[43m)\u001b[49m\n",
      "File \u001b[1;32m~\\Desktop\\work\\warpfusion\\env\\lib\\site-packages\\pandas\\core\\series.py:4670\u001b[0m, in \u001b[0;36mSeries._reduce\u001b[1;34m(self, op, name, axis, skipna, numeric_only, filter_type, **kwds)\u001b[0m\n\u001b[0;32m   4665\u001b[0m     \u001b[38;5;28;01mraise\u001b[39;00m \u001b[38;5;167;01mTypeError\u001b[39;00m(\n\u001b[0;32m   4666\u001b[0m         \u001b[38;5;124mf\u001b[39m\u001b[38;5;124m\"\u001b[39m\u001b[38;5;124mSeries.\u001b[39m\u001b[38;5;132;01m{\u001b[39;00mname\u001b[38;5;132;01m}\u001b[39;00m\u001b[38;5;124m does not allow \u001b[39m\u001b[38;5;132;01m{\u001b[39;00mkwd_name\u001b[38;5;132;01m}\u001b[39;00m\u001b[38;5;124m=\u001b[39m\u001b[38;5;132;01m{\u001b[39;00mnumeric_only\u001b[38;5;132;01m}\u001b[39;00m\u001b[38;5;124m \u001b[39m\u001b[38;5;124m\"\u001b[39m\n\u001b[0;32m   4667\u001b[0m         \u001b[38;5;124m\"\u001b[39m\u001b[38;5;124mwith non-numeric dtypes.\u001b[39m\u001b[38;5;124m\"\u001b[39m\n\u001b[0;32m   4668\u001b[0m     )\n\u001b[0;32m   4669\u001b[0m \u001b[38;5;28;01mwith\u001b[39;00m np\u001b[38;5;241m.\u001b[39merrstate(\u001b[38;5;28mall\u001b[39m\u001b[38;5;241m=\u001b[39m\u001b[38;5;124m\"\u001b[39m\u001b[38;5;124mignore\u001b[39m\u001b[38;5;124m\"\u001b[39m):\n\u001b[1;32m-> 4670\u001b[0m     \u001b[38;5;28;01mreturn\u001b[39;00m op(delegate, skipna\u001b[38;5;241m=\u001b[39mskipna, \u001b[38;5;241m*\u001b[39m\u001b[38;5;241m*\u001b[39mkwds)\n",
      "File \u001b[1;32m~\\Desktop\\work\\warpfusion\\env\\lib\\site-packages\\pandas\\core\\nanops.py:158\u001b[0m, in \u001b[0;36mbottleneck_switch.__call__.<locals>.f\u001b[1;34m(values, axis, skipna, **kwds)\u001b[0m\n\u001b[0;32m    156\u001b[0m         result \u001b[38;5;241m=\u001b[39m alt(values, axis\u001b[38;5;241m=\u001b[39maxis, skipna\u001b[38;5;241m=\u001b[39mskipna, \u001b[38;5;241m*\u001b[39m\u001b[38;5;241m*\u001b[39mkwds)\n\u001b[0;32m    157\u001b[0m \u001b[38;5;28;01melse\u001b[39;00m:\n\u001b[1;32m--> 158\u001b[0m     result \u001b[38;5;241m=\u001b[39m alt(values, axis\u001b[38;5;241m=\u001b[39maxis, skipna\u001b[38;5;241m=\u001b[39mskipna, \u001b[38;5;241m*\u001b[39m\u001b[38;5;241m*\u001b[39mkwds)\n\u001b[0;32m    160\u001b[0m \u001b[38;5;28;01mreturn\u001b[39;00m result\n",
      "File \u001b[1;32m~\\Desktop\\work\\warpfusion\\env\\lib\\site-packages\\pandas\\core\\nanops.py:789\u001b[0m, in \u001b[0;36mnanmedian\u001b[1;34m(values, axis, skipna, mask)\u001b[0m\n\u001b[0;32m    786\u001b[0m         values \u001b[38;5;241m=\u001b[39m values\u001b[38;5;241m.\u001b[39mastype(\u001b[38;5;124m\"\u001b[39m\u001b[38;5;124mf8\u001b[39m\u001b[38;5;124m\"\u001b[39m)\n\u001b[0;32m    787\u001b[0m     \u001b[38;5;28;01mexcept\u001b[39;00m \u001b[38;5;167;01mValueError\u001b[39;00m \u001b[38;5;28;01mas\u001b[39;00m err:\n\u001b[0;32m    788\u001b[0m         \u001b[38;5;66;03m# e.g. \"could not convert string to float: 'a'\"\u001b[39;00m\n\u001b[1;32m--> 789\u001b[0m         \u001b[38;5;28;01mraise\u001b[39;00m \u001b[38;5;167;01mTypeError\u001b[39;00m(\u001b[38;5;28mstr\u001b[39m(err)) \u001b[38;5;28;01mfrom\u001b[39;00m \u001b[38;5;21;01merr\u001b[39;00m\n\u001b[0;32m    790\u001b[0m \u001b[38;5;28;01mif\u001b[39;00m mask \u001b[38;5;129;01mis\u001b[39;00m \u001b[38;5;129;01mnot\u001b[39;00m \u001b[38;5;28;01mNone\u001b[39;00m:\n\u001b[0;32m    791\u001b[0m     values[mask] \u001b[38;5;241m=\u001b[39m np\u001b[38;5;241m.\u001b[39mnan\n",
      "\u001b[1;31mTypeError\u001b[0m: could not convert string to float: 'Less than 1 year'"
     ]
    }
   ],
   "source": [
    "mean_work_exp = data['WorkExp'].mean()\n",
    "std_work_exp = data['WorkExp'].std()\n",
    "median_years_code = data['YearsCode'].median()\n",
    "min_work_exp = data['WorkExp'].min()\n",
    "max_years_code = data['YearsCode'].max()\n",
    "\n",
    "print(mean_work_exp, std_work_exp, median_years_code, min_work_exp, max_years_code)\n",
    "#სხვადასხვა სტატისტიკა (საშუალო, სტანდარტული გადახრა, მედიანა, მინიმალური და მაქსიმალური) გამოითვლება \"WorkExp\" და \"YearsCode\" სვეტებისთვის."
   ]
  },
  {
   "cell_type": "code",
   "execution_count": null,
   "id": "b793f65f",
   "metadata": {},
   "outputs": [],
   "source": [
    "plt.subplot(1, 2, 1)\n",
    "data['WorkExp'].value_counts().sort_index().plot(kind='bar', title='Bar Chart for Work Experience')\n",
    "plt.xlabel('Work Experience (years)')\n",
    "plt.ylabel('Count')"
   ]
  },
  {
   "cell_type": "code",
   "execution_count": 29,
   "id": "200e40db",
   "metadata": {},
   "outputs": [
    {
     "data": {
      "text/plain": [
       "Text(0, 0.5, 'Count')"
      ]
     },
     "execution_count": 29,
     "metadata": {},
     "output_type": "execute_result"
    },
    {
     "data": {
      "image/png": "[encoded data removed]",
      "text/plain": [
       "<Figure size 640x480 with 1 Axes>"
      ]
     },
     "metadata": {},
     "output_type": "display_data"
    }
   ],
   "source": [
    "plt.subplot(1, 2, 2)\n",
    "data['YearsCode'].value_counts().sort_index().plot(kind='line', title='Line Chart for Years of Coding')\n",
    "plt.xlabel('Years of Coding')\n",
    "plt.ylabel('Count')\n",
    "\n",
    "#კოდი ქმნის ორ ჩარტს matplotlib-ის გამოყენებით\n",
    "#ზოლიანი დიაგრამას, რომელიც აჩვენებს \"WorkExp\" მნიშვნელობების რაოდენობას და ხაზოვან დიაგრამას, რომელიც აჩვენებს \"YearsCode\" \n",
    "#მნიშვნელობების რაოდენობას."
   ]
  },
  {
   "cell_type": "code",
   "execution_count": 20,
   "id": "6c1e3df3",
   "metadata": {},
   "outputs": [
    {
     "data": {
      "text/plain": [
       "<Figure size 640x480 with 0 Axes>"
      ]
     },
     "metadata": {},
     "output_type": "display_data"
    }
   ],
   "source": []
  },
  {
   "cell_type": "code",
   "execution_count": null,
   "id": "9823a6cd",
   "metadata": {},
   "outputs": [],
   "source": []
  }
 ],
 "metadata": {
  "kernelspec": {
   "display_name": "Python 3 (ipykernel)",
   "language": "python",
   "name": "python3"
  },
  "language_info": {
   "codemirror_mode": {
    "name": "ipython",
    "version": 3
   },
   "file_extension": ".py",
   "mimetype": "text/x-python",
   "name": "python",
   "nbconvert_exporter": "python",
   "pygments_lexer": "ipython3",
   "version": "3.10.9"
  }
 },
 "nbformat": 4,
 "nbformat_minor": 5
}
